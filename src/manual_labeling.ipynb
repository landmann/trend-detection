{
 "cells": [
  {
   "cell_type": "code",
   "execution_count": 43,
   "metadata": {},
   "outputs": [],
   "source": [
    "from os import listdir\n",
    "from os.path import isfile, join\n",
    "import matplotlib.pyplot as plt\n",
    "import matplotlib.image as mpimg\n",
    "import numpy as np\n",
    "from IPython.display import Image, display, clear_output"
   ]
  },
  {
   "cell_type": "code",
   "execution_count": 44,
   "metadata": {},
   "outputs": [],
   "source": [
    "LABELS_WRITE = \"../data/test/labels_scraped_cooroberation.txt\"\n",
    "IMG_ROOT = \"../data/test/\"\n",
    "LABELS_READ = [\n",
    "    \"../data/test/labels_scraped.txt\", \n",
    "    \"../data/test/labels.txt\"\n",
    "]"
   ]
  },
  {
   "cell_type": "code",
   "execution_count": 45,
   "metadata": {},
   "outputs": [
    {
     "data": {
      "text/plain": [
       "0"
      ]
     },
     "execution_count": 45,
     "metadata": {},
     "output_type": "execute_result"
    }
   ],
   "source": [
    "def read_labels(path, filt):\n",
    "    prev_labels = set()\n",
    "    with open(path, 'r') as infile: \n",
    "        for line in infile: \n",
    "            path, label = line.strip().split(\" \")\n",
    "            if filt: \n",
    "                if label in [\"-1\", \"0\", \"1\"]:\n",
    "                    prev_labels.add(path)\n",
    "            else: \n",
    "                prev_labels.add(path)\n",
    "    return prev_labels\n",
    "\n",
    "PREV_LABELS = read_labels(LABELS_WRITE, filt=False)\n",
    "\n",
    "len(PREV_LABELS)"
   ]
  },
  {
   "cell_type": "code",
   "execution_count": 46,
   "metadata": {},
   "outputs": [
    {
     "data": {
      "text/plain": [
       "256"
      ]
     },
     "execution_count": 46,
     "metadata": {},
     "output_type": "execute_result"
    }
   ],
   "source": [
    "IMS_TO_LABEL = set() \n",
    "\n",
    "for path in LABELS_READ: \n",
    "    IMS_TO_LABEL = IMS_TO_LABEL.union(read_labels(path, filt=True))\n",
    "    \n",
    "len(IMS_TO_LABEL)"
   ]
  },
  {
   "cell_type": "code",
   "execution_count": 47,
   "metadata": {},
   "outputs": [],
   "source": [
    "def show_photo(photos_path, photo_name): \n",
    "    img = Image(photos_path + photo_name)\n",
    "    display(img)"
   ]
  },
  {
   "cell_type": "code",
   "execution_count": 48,
   "metadata": {},
   "outputs": [],
   "source": [
    "LABELS = {\n",
    "    '': '-',\n",
    "    'i': 1,\n",
    "    'd': -1, \n",
    "    'n': 0, \n",
    "    'm': 'm'\n",
    "}\n",
    "\n",
    "def get_label(photo_name): \n",
    "    answer = input('i for increase, d for decrease, n for neutral/neither, space for invalid, m for multiple valid lines')\n",
    "    photo_name = 'scraped/%s' % (photo)\n",
    "    write_label(photo_name, LABELS[answer])\n",
    "    "
   ]
  },
  {
   "cell_type": "code",
   "execution_count": 49,
   "metadata": {},
   "outputs": [],
   "source": [
    "def write_label(photo_name, label): \n",
    "    print(\"writing!\")\n",
    "    with open(LABELS_WRITE, 'a') as outfile: \n",
    "        line = \"%s %s\\n\" % (photo_name, str(label))\n",
    "        outfile.write(line)"
   ]
  },
  {
   "cell_type": "code",
   "execution_count": 50,
   "metadata": {},
   "outputs": [],
   "source": [
    "for photo in IMS_TO_LABEL: \n",
    "    if 'scraped/%s' % (photo) not in PREV_LABELS: \n",
    "        try: \n",
    "            show_photo(IMG_ROOT, photo)\n",
    "            get_label(photo)\n",
    "        except Exception as e:\n",
    "            print(e)\n",
    "            continue\n",
    "        clear_output()"
   ]
  },
  {
   "cell_type": "code",
   "execution_count": null,
   "metadata": {},
   "outputs": [],
   "source": []
  }
 ],
 "metadata": {
  "kernelspec": {
   "display_name": "Python 3",
   "language": "python",
   "name": "python3"
  },
  "language_info": {
   "codemirror_mode": {
    "name": "ipython",
    "version": 3
   },
   "file_extension": ".py",
   "mimetype": "text/x-python",
   "name": "python",
   "nbconvert_exporter": "python",
   "pygments_lexer": "ipython3",
   "version": "3.6.0"
  }
 },
 "nbformat": 4,
 "nbformat_minor": 2
}
