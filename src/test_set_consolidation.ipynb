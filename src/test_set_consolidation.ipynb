{
 "cells": [
  {
   "cell_type": "code",
   "execution_count": null,
   "metadata": {},
   "outputs": [],
   "source": [
    "################# consolidate data \n",
    "seen = set()\n",
    "labels = \"\"\n",
    "path = \"../data/test/labels_scraped.txt\"\n",
    "\n",
    "with open(path, 'r') as infile: \n",
    "    for line in infile: \n",
    "        path, label = line.strip().split(\" \")\n",
    "        if path in seen: \n",
    "            break\n",
    "        seen.add(path)\n",
    "        #print(\"label:\" + label)\n",
    "        if label in ['-1', '0', '1']: \n",
    "            line = \"%s %s\\n\" % (path, label)\n",
    "            labels += line\n",
    "\n",
    "print(labels)\n",
    "\n",
    "with open('../data/test/labels_scraped.txt', 'w') as outfile: \n",
    "    outfile.write(labels)\n",
    "    "
   ]
  },
  {
   "cell_type": "code",
   "execution_count": 5,
   "metadata": {},
   "outputs": [
    {
     "data": {
      "text/plain": [
       "410"
      ]
     },
     "execution_count": 5,
     "metadata": {},
     "output_type": "execute_result"
    }
   ],
   "source": [
    "len(labels.split(\"\\n\"))"
   ]
  },
  {
   "cell_type": "code",
   "execution_count": 5,
   "metadata": {},
   "outputs": [],
   "source": [
    "import os\n",
    "from IPython.display import Image, display, clear_output"
   ]
  },
  {
   "cell_type": "code",
   "execution_count": 10,
   "metadata": {},
   "outputs": [
    {
     "data": {
      "image/png": "[encoded data removed]",
      "text/plain": [
       "<IPython.core.display.Image object>"
      ]
     },
     "metadata": {},
     "output_type": "display_data"
    }
   ],
   "source": [
    "path = os.path.expanduser(\"~/graph-trend-understanding/data/train/sinusoid/25.png\")\n",
    "\n",
    "def show_photo(path): \n",
    "    img = Image(path)\n",
    "    display(img)\n",
    "    \n",
    "show_photo(path)"
   ]
  }
 ],
 "metadata": {
  "kernelspec": {
   "display_name": "Python 3",
   "language": "python",
   "name": "python3"
  },
  "language_info": {
   "codemirror_mode": {
    "name": "ipython",
    "version": 3
   },
   "file_extension": ".py",
   "mimetype": "text/x-python",
   "name": "python",
   "nbconvert_exporter": "python",
   "pygments_lexer": "ipython3",
   "version": "3.6.0"
  }
 },
 "nbformat": 4,
 "nbformat_minor": 2
}
