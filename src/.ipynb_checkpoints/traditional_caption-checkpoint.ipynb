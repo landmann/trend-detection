{
 "cells": [
  {
   "cell_type": "code",
   "execution_count": 2,
   "metadata": {},
   "outputs": [],
   "source": [
    "class Lang():\n",
    "    def __init__(self, image): # image is a PIL image \n",
    "        self.tool = pyocr.get_available_tools()[0]\n",
    "        self.lang = self.tool.get_available_languages()[0]\n",
    "        self.ocr_noise = [' ','','.',',',';','W','w']\n",
    "        self.image = image \n",
    "    \n",
    "    def get_text(self):\n",
    "        \"\"\"Returns one string of all text detected.\"\"\"\n",
    "        txt = self.lang.tool.image_to_string(\n",
    "            self.image,\n",
    "            lang=self.lang,\n",
    "            builder=pyocr.builders.TextBuilder()\n",
    "        )\n",
    "        return txt\n",
    "    \n",
    "    \n",
    "    def get_line_and_word_boxes(self):\n",
    "        \"\"\"line.word_boxes is a list of word boxes (the individual words in the line)\n",
    "           line.content is the whole text of the line\n",
    "           line.position is the position of the whole line on the page (in pixels)\"\"\"\n",
    "        line_and_word_boxes = self.lang.tool.image_to_string(\n",
    "            self.image, lang=\"eng\",\n",
    "            builder=pyocr.builders.LineBoxBuilder()\n",
    "        )\n",
    "        return line_and_word_boxes\n",
    "\n",
    "\n",
    "    def get_word_boxes(self):\n",
    "        \"\"\"Returns boxes around words separated by a space.\n",
    "            box.content is the word in the box.\n",
    "            box.position is the position on the page (in pixels)\"\"\"\n",
    "        word_boxes = self.lang.tool.image_to_string(\n",
    "            self.image,\n",
    "            lang=\"eng\",\n",
    "            builder=pyocr.builders.WordBoxBuilder()\n",
    "        )\n",
    "        return word_boxes\n",
    "\n",
    "    def get_digits(self):\n",
    "        \"\"\"Returns a string of digits.\"\"\"\n",
    "        digits = self.lang.tool.image_to_string(\n",
    "            self.image,\n",
    "            lang=lang,\n",
    "            builder=pyocr.tesseract.DigitBuilder()\n",
    "        )\n",
    "        return digits\n",
    "    \n",
    "    def crop_title(self):\n",
    "        \"\"\"Find the first characters in the image and crop them out.\"\"\"\n",
    "        top_line_and_words = self.get_line_and_word_boxes()\n",
    "        top_line_and_words = [boxes for boxes in self.get_line_and_word_boxes() if boxes.content not in self.ocr_noise]\n",
    "        if top_line_and_words:\n",
    "            topleft, bottomright = top_line_and_words[0].position\n",
    "            print(topleft, bottomright)\n",
    "            if topleft[1] <= self.title_position:\n",
    "                self.image = self.image.crop((0, bottomright[1], self.width, self.height))\n",
    "                self.update_img()\n",
    "                self.update_size()\n"
   ]
  },
  {
   "cell_type": "code",
   "execution_count": 5,
   "metadata": {},
   "outputs": [
    {
     "ename": "ImportError",
     "evalue": "No module named 'pyocr'",
     "output_type": "error",
     "traceback": [
      "\u001b[0;31m--------------------------------------------------------------------------\u001b[0m",
      "\u001b[0;31mImportError\u001b[0m                              Traceback (most recent call last)",
      "\u001b[0;32m<ipython-input-5-d62ad825596b>\u001b[0m in \u001b[0;36m<module>\u001b[0;34m()\u001b[0m\n\u001b[1;32m      2\u001b[0m \u001b[0;32mimport\u001b[0m \u001b[0mrandom\u001b[0m\u001b[0;34m\u001b[0m\u001b[0m\n\u001b[1;32m      3\u001b[0m \u001b[0;32mimport\u001b[0m \u001b[0mos\u001b[0m\u001b[0;34m\u001b[0m\u001b[0m\n\u001b[0;32m----> 4\u001b[0;31m \u001b[0;32mimport\u001b[0m \u001b[0mpyocr\u001b[0m\u001b[0;34m\u001b[0m\u001b[0m\n\u001b[0m\u001b[1;32m      5\u001b[0m \u001b[0;34m\u001b[0m\u001b[0m\n\u001b[1;32m      6\u001b[0m \u001b[0;32mdef\u001b[0m \u001b[0mmake_image\u001b[0m\u001b[0;34m(\u001b[0m\u001b[0mpath\u001b[0m\u001b[0;34m)\u001b[0m\u001b[0;34m:\u001b[0m\u001b[0;34m\u001b[0m\u001b[0m\n",
      "\u001b[0;31mImportError\u001b[0m: No module named 'pyocr'"
     ]
    }
   ],
   "source": [
    "from PIL import Image, ImageDraw, ImageFont\n",
    "import random\n",
    "import os\n",
    "import pyocr\n",
    "\n",
    "def make_image(path):\n",
    "    image = Image.open(path)\n",
    "    image = image.convert('RGB')\n",
    "    return image\n",
    "\n",
    "path = os.path.expanduser('~/graph-trend-understanding/data/val/1.png')\n",
    "im = make_image(path)"
   ]
  },
  {
   "cell_type": "code",
   "execution_count": 6,
   "metadata": {},
   "outputs": [
    {
     "ename": "NameError",
     "evalue": "name 'pyocr' is not defined",
     "output_type": "error",
     "traceback": [
      "\u001b[0;31m--------------------------------------------------------------------------\u001b[0m",
      "\u001b[0;31mNameError\u001b[0m                                Traceback (most recent call last)",
      "\u001b[0;32m<ipython-input-6-1c5299ef0b56>\u001b[0m in \u001b[0;36m<module>\u001b[0;34m()\u001b[0m\n\u001b[0;32m----> 1\u001b[0;31m \u001b[0mlang\u001b[0m \u001b[0;34m=\u001b[0m \u001b[0mLang\u001b[0m\u001b[0;34m(\u001b[0m\u001b[0mim\u001b[0m\u001b[0;34m)\u001b[0m\u001b[0;34m\u001b[0m\u001b[0m\n\u001b[0m",
      "\u001b[0;32m<ipython-input-2-94f25ac15cb0>\u001b[0m in \u001b[0;36m__init__\u001b[0;34m(self, image)\u001b[0m\n\u001b[1;32m      1\u001b[0m \u001b[0;32mclass\u001b[0m \u001b[0mLang\u001b[0m\u001b[0;34m(\u001b[0m\u001b[0;34m)\u001b[0m\u001b[0;34m:\u001b[0m\u001b[0;34m\u001b[0m\u001b[0m\n\u001b[1;32m      2\u001b[0m     \u001b[0;32mdef\u001b[0m \u001b[0m__init__\u001b[0m\u001b[0;34m(\u001b[0m\u001b[0mself\u001b[0m\u001b[0;34m,\u001b[0m \u001b[0mimage\u001b[0m\u001b[0;34m)\u001b[0m\u001b[0;34m:\u001b[0m \u001b[0;31m# image is a PIL image\u001b[0m\u001b[0;34m\u001b[0m\u001b[0m\n\u001b[0;32m----> 3\u001b[0;31m         \u001b[0mself\u001b[0m\u001b[0;34m.\u001b[0m\u001b[0mtool\u001b[0m \u001b[0;34m=\u001b[0m \u001b[0mpyocr\u001b[0m\u001b[0;34m.\u001b[0m\u001b[0mget_available_tools\u001b[0m\u001b[0;34m(\u001b[0m\u001b[0;34m)\u001b[0m\u001b[0;34m[\u001b[0m\u001b[0;36m0\u001b[0m\u001b[0;34m]\u001b[0m\u001b[0;34m\u001b[0m\u001b[0m\n\u001b[0m\u001b[1;32m      4\u001b[0m         \u001b[0mself\u001b[0m\u001b[0;34m.\u001b[0m\u001b[0mlang\u001b[0m \u001b[0;34m=\u001b[0m \u001b[0mself\u001b[0m\u001b[0;34m.\u001b[0m\u001b[0mtool\u001b[0m\u001b[0;34m.\u001b[0m\u001b[0mget_available_languages\u001b[0m\u001b[0;34m(\u001b[0m\u001b[0;34m)\u001b[0m\u001b[0;34m[\u001b[0m\u001b[0;36m0\u001b[0m\u001b[0;34m]\u001b[0m\u001b[0;34m\u001b[0m\u001b[0m\n\u001b[1;32m      5\u001b[0m         \u001b[0mself\u001b[0m\u001b[0;34m.\u001b[0m\u001b[0mocr_noise\u001b[0m \u001b[0;34m=\u001b[0m \u001b[0;34m[\u001b[0m\u001b[0;34m' '\u001b[0m\u001b[0;34m,\u001b[0m\u001b[0;34m''\u001b[0m\u001b[0;34m,\u001b[0m\u001b[0;34m'.'\u001b[0m\u001b[0;34m,\u001b[0m\u001b[0;34m','\u001b[0m\u001b[0;34m,\u001b[0m\u001b[0;34m';'\u001b[0m\u001b[0;34m,\u001b[0m\u001b[0;34m'W'\u001b[0m\u001b[0;34m,\u001b[0m\u001b[0;34m'w'\u001b[0m\u001b[0;34m]\u001b[0m\u001b[0;34m\u001b[0m\u001b[0m\n",
      "\u001b[0;31mNameError\u001b[0m: name 'pyocr' is not defined"
     ]
    }
   ],
   "source": [
    "lang = Lang(im)"
   ]
  },
  {
   "cell_type": "code",
   "execution_count": null,
   "metadata": {},
   "outputs": [],
   "source": []
  }
 ],
 "metadata": {
  "kernelspec": {
   "display_name": "Python 3",
   "language": "python",
   "name": "python3"
  },
  "language_info": {
   "codemirror_mode": {
    "name": "ipython",
    "version": 3
   },
   "file_extension": ".py",
   "mimetype": "text/x-python",
   "name": "python",
   "nbconvert_exporter": "python",
   "pygments_lexer": "ipython3",
   "version": "3.5.2"
  }
 },
 "nbformat": 4,
 "nbformat_minor": 2
}
